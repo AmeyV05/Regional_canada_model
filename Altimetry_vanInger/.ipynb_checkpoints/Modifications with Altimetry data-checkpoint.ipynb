{
 "cells": [
  {
   "cell_type": "code",
   "execution_count": null,
   "metadata": {},
   "outputs": [],
   "source": [
    "import numpy as np\n",
    "import os\n",
    "import sys\n",
    "import xarray as xr\n",
    "import matplotlib.pyplot as plt"
   ]
  },
  {
   "cell_type": "markdown",
   "metadata": {},
   "source": [
    "Getting the points from Inger's Altimetry for our canada region."
   ]
  },
  {
   "cell_type": "code",
   "execution_count": null,
   "metadata": {},
   "outputs": [],
   "source": [
    "#Coordinates anticlockwise from left bottom.\n",
    "lon0,lat0=-157.5,50.39\n",
    "lon1,lat1=-47.1,50.39\n",
    "lon2,lat2=-47.1,83.21\n",
    "lon3,lat3=-157.5,83.21"
   ]
  },
  {
   "cell_type": "code",
   "execution_count": null,
   "metadata": {},
   "outputs": [],
   "source": [
    "obs=np.loadtxt('GridPointsArctic.xyn',usecols=(0,1),dtype='float')\n",
    "print(obs)\n",
    "obsname=np.loadtxt('GridPointsArctic.xyn',usecols=(2),dtype='str')"
   ]
  },
  {
   "cell_type": "code",
   "execution_count": null,
   "metadata": {},
   "outputs": [],
   "source": [
    "nobs=np.zeros((2,1))\n",
    "nobsname=[]\n",
    "for i in range(len(obs[:,0])):\n",
    "    if (lon0<=obs[i,0]<=lon1) and (lat0<=obs[i,1]<=lat2):\n",
    "        nobs=np.append(nobs,[[obs[i,0]],[obs[i,1]]],axis=1)\n",
    "        nobsname=np.append(nobsname,obsname[i])\n",
    "nobs=nobs[:,1:].T\n",
    "print(nobs.shape)\n",
    "print(nobsname.shape)"
   ]
  },
  {
   "cell_type": "code",
   "execution_count": null,
   "metadata": {},
   "outputs": [],
   "source": [
    "import cartopy.crs as ccrs\n",
    "import cartopy.feature as cpf \n",
    "   \n",
    "# marking the x-axis and y-axis \n",
    "fig=plt.figure(figsize=(12, 12), frameon=True)\n",
    "ax=plt.axes(projection=ccrs.PlateCarree()) \n",
    "ax.set_extent([-160,-40,45,90]) \n",
    "# ax.set_extent([-180,180,45,90])  \n",
    "feature=cpf.GSHHSFeature(scale='i',levels=[1],facecolor='#e6e1e1',alpha=1)\n",
    "ax.add_feature(feature)\n",
    "\n",
    "plt.scatter(nobs[:,0],nobs[:,1],transform=ccrs.PlateCarree())\n",
    "plt.show()"
   ]
  },
  {
   "cell_type": "code",
   "execution_count": null,
   "metadata": {},
   "outputs": [],
   "source": [
    "vec=np.hstack((nobs,nobsname.reshape(len(nobsname),1)))\n",
    "print(vec.shape)\n",
    "print(vec)"
   ]
  },
  {
   "cell_type": "code",
   "execution_count": null,
   "metadata": {},
   "outputs": [],
   "source": [
    "np.savetxt('AltimetryCanadaObs.xyn',vec,fmt='%s',delimiter=\"\\t\")"
   ]
  }
 ],
 "metadata": {
  "kernelspec": {
   "display_name": "plotting",
   "language": "python",
   "name": "plotting"
  },
  "language_info": {
   "codemirror_mode": {
    "name": "ipython",
    "version": 3
   },
   "file_extension": ".py",
   "mimetype": "text/x-python",
   "name": "python",
   "nbconvert_exporter": "python",
   "pygments_lexer": "ipython3",
   "version": "3.9.2"
  }
 },
 "nbformat": 4,
 "nbformat_minor": 4
}
