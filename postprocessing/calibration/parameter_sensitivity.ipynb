{
 "cells": [
  {
   "cell_type": "markdown",
   "metadata": {},
   "source": [
    "Here we will evaluate the direction and sensitivity of different parameter regions. "
   ]
  },
  {
   "cell_type": "code",
   "execution_count": 1,
   "metadata": {},
   "outputs": [
    {
     "name": "stdout",
     "output_type": "stream",
     "text": [
      "/u/vasulkar/p_emodnet_amey/Regional_canada_model/\n"
     ]
    }
   ],
   "source": [
    "import os\n",
    "import sys\n",
    "sys.path.append('/u/vasulkar/p_emodnet_amey/Regional_canada_model/')\n",
    "path1=sys.path[-1]\n",
    "print(path1)\n",
    "import numpy as np\n",
    "import matplotlib.pyplot as plt\n",
    "import cartopy.crs as ccrs\n",
    "import cartopy.feature as cpf \n",
    "from matplotlib import cm"
   ]
  },
  {
   "cell_type": "markdown",
   "metadata": {},
   "source": [
    "Let us start with bathymetry and then go to bottom friction.\n"
   ]
  },
  {
   "cell_type": "code",
   "execution_count": 76,
   "metadata": {},
   "outputs": [
    {
     "name": "stdout",
     "output_type": "stream",
     "text": [
      "/u/vasulkar/p_emodnet_amey/Regional_canada_model/model_runs/snellius_runs/OpenDAruns\n"
     ]
    }
   ],
   "source": [
    "typ='bathymetry'\n",
    "runsfolder=os.path.join(path1,'model_runs','snellius_runs','OpenDAruns')\n",
    "print(runsfolder)\n",
    "simfolder=runsfolder+'/Canadamodel_bathy_sensitivity/'\n"
   ]
  },
  {
   "cell_type": "code",
   "execution_count": 77,
   "metadata": {},
   "outputs": [
    {
     "data": {
      "text/html": [
       "<div>\n",
       "<style scoped>\n",
       "    .dataframe tbody tr th:only-of-type {\n",
       "        vertical-align: middle;\n",
       "    }\n",
       "\n",
       "    .dataframe tbody tr th {\n",
       "        vertical-align: top;\n",
       "    }\n",
       "\n",
       "    .dataframe thead th {\n",
       "        text-align: right;\n",
       "    }\n",
       "</style>\n",
       "<table border=\"1\" class=\"dataframe\">\n",
       "  <thead>\n",
       "    <tr style=\"text-align: right;\">\n",
       "      <th></th>\n",
       "      <th>Iteration   Cost</th>\n",
       "      <th>depth_1</th>\n",
       "      <th>depth_2</th>\n",
       "      <th>depth_3</th>\n",
       "      <th>depth_4</th>\n",
       "      <th>depth_5</th>\n",
       "      <th>depth_6</th>\n",
       "      <th>depth_7</th>\n",
       "      <th>depth_8</th>\n",
       "      <th>depth_9</th>\n",
       "      <th>...</th>\n",
       "      <th>depth_116</th>\n",
       "      <th>depth_117</th>\n",
       "      <th>depth_118</th>\n",
       "      <th>depth_119</th>\n",
       "      <th>depth_120</th>\n",
       "      <th>depth_121</th>\n",
       "      <th>depth_122</th>\n",
       "      <th>depth_123</th>\n",
       "      <th>depth_124</th>\n",
       "      <th>depth_125</th>\n",
       "    </tr>\n",
       "  </thead>\n",
       "  <tbody>\n",
       "    <tr>\n",
       "      <th>1</th>\n",
       "      <td>4.959790e+07</td>\n",
       "      <td>0.00</td>\n",
       "      <td>0.00</td>\n",
       "      <td>0.00</td>\n",
       "      <td>0.00</td>\n",
       "      <td>0.0</td>\n",
       "      <td>0.0</td>\n",
       "      <td>0.0</td>\n",
       "      <td>0.0</td>\n",
       "      <td>0.0</td>\n",
       "      <td>...</td>\n",
       "      <td>0.0</td>\n",
       "      <td>0.0</td>\n",
       "      <td>0.0</td>\n",
       "      <td>0.0</td>\n",
       "      <td>0.0</td>\n",
       "      <td>0.0</td>\n",
       "      <td>0.0</td>\n",
       "      <td>0.0</td>\n",
       "      <td>0.0</td>\n",
       "      <td>0.0</td>\n",
       "    </tr>\n",
       "    <tr>\n",
       "      <th>2</th>\n",
       "      <td>4.959458e+07</td>\n",
       "      <td>0.05</td>\n",
       "      <td>0.00</td>\n",
       "      <td>0.00</td>\n",
       "      <td>0.00</td>\n",
       "      <td>0.0</td>\n",
       "      <td>0.0</td>\n",
       "      <td>0.0</td>\n",
       "      <td>0.0</td>\n",
       "      <td>0.0</td>\n",
       "      <td>...</td>\n",
       "      <td>0.0</td>\n",
       "      <td>0.0</td>\n",
       "      <td>0.0</td>\n",
       "      <td>0.0</td>\n",
       "      <td>0.0</td>\n",
       "      <td>0.0</td>\n",
       "      <td>0.0</td>\n",
       "      <td>0.0</td>\n",
       "      <td>0.0</td>\n",
       "      <td>0.0</td>\n",
       "    </tr>\n",
       "    <tr>\n",
       "      <th>3</th>\n",
       "      <td>4.956171e+07</td>\n",
       "      <td>0.00</td>\n",
       "      <td>0.05</td>\n",
       "      <td>0.00</td>\n",
       "      <td>0.00</td>\n",
       "      <td>0.0</td>\n",
       "      <td>0.0</td>\n",
       "      <td>0.0</td>\n",
       "      <td>0.0</td>\n",
       "      <td>0.0</td>\n",
       "      <td>...</td>\n",
       "      <td>0.0</td>\n",
       "      <td>0.0</td>\n",
       "      <td>0.0</td>\n",
       "      <td>0.0</td>\n",
       "      <td>0.0</td>\n",
       "      <td>0.0</td>\n",
       "      <td>0.0</td>\n",
       "      <td>0.0</td>\n",
       "      <td>0.0</td>\n",
       "      <td>0.0</td>\n",
       "    </tr>\n",
       "    <tr>\n",
       "      <th>4</th>\n",
       "      <td>4.955549e+07</td>\n",
       "      <td>0.00</td>\n",
       "      <td>0.00</td>\n",
       "      <td>0.05</td>\n",
       "      <td>0.00</td>\n",
       "      <td>0.0</td>\n",
       "      <td>0.0</td>\n",
       "      <td>0.0</td>\n",
       "      <td>0.0</td>\n",
       "      <td>0.0</td>\n",
       "      <td>...</td>\n",
       "      <td>0.0</td>\n",
       "      <td>0.0</td>\n",
       "      <td>0.0</td>\n",
       "      <td>0.0</td>\n",
       "      <td>0.0</td>\n",
       "      <td>0.0</td>\n",
       "      <td>0.0</td>\n",
       "      <td>0.0</td>\n",
       "      <td>0.0</td>\n",
       "      <td>0.0</td>\n",
       "    </tr>\n",
       "    <tr>\n",
       "      <th>5</th>\n",
       "      <td>4.957426e+07</td>\n",
       "      <td>0.00</td>\n",
       "      <td>0.00</td>\n",
       "      <td>0.00</td>\n",
       "      <td>0.05</td>\n",
       "      <td>0.0</td>\n",
       "      <td>0.0</td>\n",
       "      <td>0.0</td>\n",
       "      <td>0.0</td>\n",
       "      <td>0.0</td>\n",
       "      <td>...</td>\n",
       "      <td>0.0</td>\n",
       "      <td>0.0</td>\n",
       "      <td>0.0</td>\n",
       "      <td>0.0</td>\n",
       "      <td>0.0</td>\n",
       "      <td>0.0</td>\n",
       "      <td>0.0</td>\n",
       "      <td>0.0</td>\n",
       "      <td>0.0</td>\n",
       "      <td>0.0</td>\n",
       "    </tr>\n",
       "  </tbody>\n",
       "</table>\n",
       "<p>5 rows × 126 columns</p>\n",
       "</div>"
      ],
      "text/plain": [
       "   Iteration   Cost   depth_1   depth_2   depth_3   depth_4   depth_5   \\\n",
       "1       4.959790e+07      0.00      0.00      0.00      0.00       0.0   \n",
       "2       4.959458e+07      0.05      0.00      0.00      0.00       0.0   \n",
       "3       4.956171e+07      0.00      0.05      0.00      0.00       0.0   \n",
       "4       4.955549e+07      0.00      0.00      0.05      0.00       0.0   \n",
       "5       4.957426e+07      0.00      0.00      0.00      0.05       0.0   \n",
       "\n",
       "   depth_6   depth_7   depth_8   depth_9   ...  depth_116   depth_117   \\\n",
       "1       0.0       0.0       0.0       0.0  ...         0.0         0.0   \n",
       "2       0.0       0.0       0.0       0.0  ...         0.0         0.0   \n",
       "3       0.0       0.0       0.0       0.0  ...         0.0         0.0   \n",
       "4       0.0       0.0       0.0       0.0  ...         0.0         0.0   \n",
       "5       0.0       0.0       0.0       0.0  ...         0.0         0.0   \n",
       "\n",
       "   depth_118   depth_119   depth_120   depth_121   depth_122   depth_123   \\\n",
       "1         0.0         0.0         0.0         0.0         0.0         0.0   \n",
       "2         0.0         0.0         0.0         0.0         0.0         0.0   \n",
       "3         0.0         0.0         0.0         0.0         0.0         0.0   \n",
       "4         0.0         0.0         0.0         0.0         0.0         0.0   \n",
       "5         0.0         0.0         0.0         0.0         0.0         0.0   \n",
       "\n",
       "   depth_124   depth_125  \n",
       "1         0.0        0.0  \n",
       "2         0.0        0.0  \n",
       "3         0.0        0.0  \n",
       "4         0.0        0.0  \n",
       "5         0.0        0.0  \n",
       "\n",
       "[5 rows x 126 columns]"
      ]
     },
     "execution_count": 77,
     "metadata": {},
     "output_type": "execute_result"
    }
   ],
   "source": [
    "import pandas as pd\n",
    "\n",
    "# simfolder=runsfolder+'/vis_9para_32TG_model/'\n",
    "resfile=simfolder+'results_dud.csv'\n",
    "df=pd.read_csv(resfile,delimiter='\\t',quotechar=\"'\")\n",
    "df.head()"
   ]
  },
  {
   "cell_type": "code",
   "execution_count": 78,
   "metadata": {},
   "outputs": [],
   "source": [
    "Nparams=125 #no. of domains.\n",
    "key=df.keys()\n",
    "costfuncvec=np.array(df[key[0]])\n",
    "standardcf=costfuncvec[0]\n",
    "#0.05 is bathymetry sensitivity.\n",
    "if typ=='bathymetry':\n",
    "    dh=0.05\n",
    "else:\n",
    "    dh=0.2\n",
    "sencfvec=(costfuncvec[1:]-standardcf)/standardcf\n"
   ]
  },
  {
   "cell_type": "code",
   "execution_count": 66,
   "metadata": {},
   "outputs": [],
   "source": [
    "import xarray as xr\n",
    "import matplotlib.pyplot as plt\n",
    "from shapely.geometry import Polygon, Point, MultiPolygon, shape\n",
    "import shapefile\n",
    "\n",
    "import cartopy.crs as ccrs\n",
    "import cartopy.feature as cpf \n",
    "from global_land_mask import globe\n",
    "import pandas as pd"
   ]
  },
  {
   "cell_type": "code",
   "execution_count": 67,
   "metadata": {},
   "outputs": [],
   "source": [
    "#getting the polygons.\n",
    "# Load polygon from disc\n",
    "import pickle\n",
    "with open('/u/vasulkar/p_emodnet_amey/Regional_canada_model/model_development/Openda_models/parampolygons', \"rb\") as poly_file:\n",
    "    loaded_polygons = pickle.load(poly_file)"
   ]
  },
  {
   "cell_type": "code",
   "execution_count": 79,
   "metadata": {},
   "outputs": [
    {
     "data": {
      "image/png": "[encoded data removed]",
      "text/plain": [
       "<Figure size 432x288 with 1 Axes>"
      ]
     },
     "metadata": {
      "needs_background": "light"
     },
     "output_type": "display_data"
    }
   ],
   "source": [
    "#getting a color map based on sensitivity\n",
    "ax_a = plt.scatter(np.ones(len(sencfvec)),range(len(sencfvec)),c=sencfvec,cmap=cm.seismic,vmin=-0.02,vmax=0.02)"
   ]
  },
  {
   "cell_type": "code",
   "execution_count": 80,
   "metadata": {},
   "outputs": [
    {
     "ename": "IndexError",
     "evalue": "index 60 is out of bounds for axis 0 with size 60",
     "output_type": "error",
     "traceback": [
      "\u001b[0;31m---------------------------------------------------------------------------\u001b[0m",
      "\u001b[0;31mIndexError\u001b[0m                                Traceback (most recent call last)",
      "\u001b[1;32m/u/vasulkar/p_emodnet_amey/Regional_canada_model/postprocessing/calibration/parameter_sensitivity.ipynb Cell 10'\u001b[0m in \u001b[0;36m<cell line: 10>\u001b[0;34m()\u001b[0m\n\u001b[1;32m      <a href='vscode-notebook-cell://ssh-remote%2Bsubmit/u/vasulkar/p_emodnet_amey/Regional_canada_model/postprocessing/calibration/parameter_sensitivity.ipynb#ch0000009vscode-remote?line=7'>8</a>\u001b[0m \u001b[39m# ax1.set_extent((-60, -55, 49, 84), crs=ccrs.PlateCarree())\u001b[39;00m\n\u001b[1;32m     <a href='vscode-notebook-cell://ssh-remote%2Bsubmit/u/vasulkar/p_emodnet_amey/Regional_canada_model/postprocessing/calibration/parameter_sensitivity.ipynb#ch0000009vscode-remote?line=9'>10</a>\u001b[0m \u001b[39mfor\u001b[39;00m i \u001b[39min\u001b[39;00m \u001b[39mlist\u001b[39m(loaded_polygons\u001b[39m.\u001b[39mkeys())[:\u001b[39m63\u001b[39m]:\n\u001b[0;32m---> <a href='vscode-notebook-cell://ssh-remote%2Bsubmit/u/vasulkar/p_emodnet_amey/Regional_canada_model/postprocessing/calibration/parameter_sensitivity.ipynb#ch0000009vscode-remote?line=10'>11</a>\u001b[0m     ax1\u001b[39m.\u001b[39madd_geometries([loaded_polygons[i]],crs\u001b[39m=\u001b[39mccrs\u001b[39m.\u001b[39mPlateCarree(),edgecolor\u001b[39m=\u001b[39m\u001b[39m'\u001b[39m\u001b[39mred\u001b[39m\u001b[39m'\u001b[39m,facecolor\u001b[39m=\u001b[39max_a\u001b[39m.\u001b[39;49mget_facecolors()[i],label\u001b[39m=\u001b[39mi)\n\u001b[1;32m     <a href='vscode-notebook-cell://ssh-remote%2Bsubmit/u/vasulkar/p_emodnet_amey/Regional_canada_model/postprocessing/calibration/parameter_sensitivity.ipynb#ch0000009vscode-remote?line=11'>12</a>\u001b[0m     x\u001b[39m=\u001b[39mloaded_polygons[i]\u001b[39m.\u001b[39mcentroid\u001b[39m.\u001b[39mx\n\u001b[1;32m     <a href='vscode-notebook-cell://ssh-remote%2Bsubmit/u/vasulkar/p_emodnet_amey/Regional_canada_model/postprocessing/calibration/parameter_sensitivity.ipynb#ch0000009vscode-remote?line=12'>13</a>\u001b[0m     y\u001b[39m=\u001b[39mloaded_polygons[i]\u001b[39m.\u001b[39mcentroid\u001b[39m.\u001b[39my\n",
      "\u001b[0;31mIndexError\u001b[0m: index 60 is out of bounds for axis 0 with size 60"
     ]
    },
    {
     "data": {
      "image/png": "[encoded data removed]",
      "text/plain": [
       "<Figure size 1440x1008 with 1 Axes>"
      ]
     },
     "metadata": {
      "needs_background": "light"
     },
     "output_type": "display_data"
    }
   ],
   "source": [
    "# marking the x-axis and y-axis  \n",
    "\n",
    "fig=plt.figure(figsize=(20, 14), frameon=True)\n",
    "# proj=ccrs.NorthPolarStereo(central_longitude=0.0,true_scale_latitude=None, globe=None)\n",
    "proj=ccrs.PlateCarree()\n",
    "ax1=fig.add_subplot(1,1,1,projection=proj) \n",
    "ax1.set_extent((-158, -46, 49, 84.7), crs=ccrs.PlateCarree())\n",
    "# ax1.set_extent((-60, -55, 49, 84), crs=ccrs.PlateCarree())\n",
    "\n",
    "for i in list(loaded_polygons.keys())[:63]:\n",
    "    ax1.add_geometries([loaded_polygons[i]],crs=ccrs.PlateCarree(),edgecolor='red',facecolor=ax_a.get_facecolors()[i],label=i)\n",
    "    x=loaded_polygons[i].centroid.x\n",
    "    y=loaded_polygons[i].centroid.y\n",
    "    #ax1.fill(x,y,)\n",
    "    # ax1.text(x, y, keys, color='red', size=15, ha='center', va='center', transform=ccrs.PlateCarree())\n",
    "    #getting points in polygon. from paramid.\n",
    "    # indparam=np.where(vec[2,:]==keys)[0]\n",
    "    # print(vec)\n",
    "    # ax1.scatter(vec[0,indparam],vec[1,indparam],transform=ccrs.PlateCarree(),label=str(keys))\n",
    "\n",
    "# ax1.legend()\n",
    "fig.colorbar(ax_a)\n",
    "feature=cpf.GSHHSFeature(scale='i',levels=[1],facecolor='black',alpha=1)\n",
    "ax1.add_feature(feature)\n",
    "    \n",
    "plt.show()\n",
    "    "
   ]
  },
  {
   "cell_type": "code",
   "execution_count": null,
   "metadata": {},
   "outputs": [],
   "source": [
    "plt.GridSpec."
   ]
  },
  {
   "cell_type": "code",
   "execution_count": 20,
   "metadata": {},
   "outputs": [
    {
     "data": {
      "text/plain": [
       "<GeoAxesSubplot:>"
      ]
     },
     "execution_count": 20,
     "metadata": {},
     "output_type": "execute_result"
    }
   ],
   "source": [
    "ax1.G"
   ]
  },
  {
   "cell_type": "code",
   "execution_count": 11,
   "metadata": {},
   "outputs": [
    {
     "data": {
      "text/plain": [
       "array([-6.63009381e+04, -7.23871142e+05, -8.48122553e+05, -4.72678108e+05,\n",
       "       -6.79652899e+03,  1.11348938e+05, -8.84249036e+05, -1.63383708e+05,\n",
       "       -3.33789586e+05, -4.05953029e+05, -7.68715102e+04,  3.04211160e+04,\n",
       "       -2.26658588e+05, -1.51508974e+06,  3.61873334e+05, -1.02676443e+06,\n",
       "        3.22923159e+05, -1.96506070e+05,  4.75531104e+05,  7.36877632e+05,\n",
       "       -9.49621511e+04,  8.42303193e+05,  1.68329637e+06,  5.80068656e+05,\n",
       "        3.26391493e+04,  2.19540747e+06,  1.65195153e+06,  1.28407080e+06,\n",
       "        2.01549633e+05,  3.54218583e+06,  2.16313893e+06, -9.66187779e+05,\n",
       "        2.12835637e+06,  9.73193992e+06,  2.02640158e+06,  2.76890446e+06,\n",
       "        1.01127653e+07,  9.57926710e+06,  1.14384779e+07,  3.36577327e+06,\n",
       "        3.64783724e+07,  5.72363025e+07,  7.39717963e+06,  1.02301029e+07,\n",
       "        2.06565490e+07,  3.19856537e+07,  6.38339910e+06,  2.65431860e+07,\n",
       "        3.04944539e+06,  6.15460783e+06,  1.69888997e+07,  2.05060828e+07,\n",
       "        9.45801616e+06,  1.94589964e+06,  1.81531967e+07,  2.04482420e+07,\n",
       "        1.24644927e+07,  1.09338840e+07,  1.27760411e+06,  1.76659575e+06])"
      ]
     },
     "execution_count": 11,
     "metadata": {},
     "output_type": "execute_result"
    }
   ],
   "source": [
    "sencfvec"
   ]
  },
  {
   "cell_type": "code",
   "execution_count": null,
   "metadata": {},
   "outputs": [],
   "source": []
  }
 ],
 "metadata": {
  "interpreter": {
   "hash": "6f318eb4b6a0dd2f7018903b9bbec8f2766ec62fd7a2e1ec8e1d303b3b9c2cc8"
  },
  "kernelspec": {
   "display_name": "Python 3.9.7 ('plotting')",
   "language": "python",
   "name": "python3"
  },
  "language_info": {
   "codemirror_mode": {
    "name": "ipython",
    "version": 3
   },
   "file_extension": ".py",
   "mimetype": "text/x-python",
   "name": "python",
   "nbconvert_exporter": "python",
   "pygments_lexer": "ipython3",
   "version": "3.9.7"
  },
  "orig_nbformat": 4
 },
 "nbformat": 4,
 "nbformat_minor": 2
}
